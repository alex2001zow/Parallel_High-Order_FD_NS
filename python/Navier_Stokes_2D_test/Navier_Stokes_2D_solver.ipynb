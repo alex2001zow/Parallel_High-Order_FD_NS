{
 "cells": [
  {
   "cell_type": "code",
   "execution_count": 89,
   "metadata": {},
   "outputs": [],
   "source": [
    "import numpy as np\n",
    "\n",
    "# Grid parameters\n",
    "nx, ny = 65, 65\n",
    "dx = dy = 1 / (nx - 1)\n",
    "nt = 500  # number of timesteps\n",
    "dt = 0.0001  # timestep size\n",
    "nu = 0.01  # viscosity\n",
    "rho = 1.0  # density\n",
    "\n",
    "# Initialize the velocity and pressure fields\n",
    "u = np.zeros((ny, nx))\n",
    "v = np.zeros((ny, nx))\n",
    "p = np.zeros((ny, nx))\n",
    "\n",
    "# Set initial conditions\n",
    "# Lid-driven cavity: top boundary at y = 1 (ny-1)\n",
    "u[ny-1, :] = 1.0\n"
   ]
  },
  {
   "cell_type": "code",
   "execution_count": 90,
   "metadata": {},
   "outputs": [],
   "source": [
    "def build_up_b(b, rho, dt, u, v, dx, dy):\n",
    "    b[1:-1, 1:-1] = (rho * (1 / dt * \n",
    "                    ((u[1:-1, 2:] - u[1:-1, :-2]) / (2 * dx) + \n",
    "                     (v[2:, 1:-1] - v[:-2, 1:-1]) / (2 * dy)) -\n",
    "                    ((u[1:-1, 2:] - u[1:-1, :-2]) / (2 * dx))**2 -\n",
    "                    2 * ((u[2:, 1:-1] - u[:-2, 1:-1]) / (2 * dy) *\n",
    "                         (v[1:-1, 2:] - v[1:-1, :-2]) / (2 * dx)) -\n",
    "                    ((v[2:, 1:-1] - v[:-2, 1:-1]) / (2 * dy))**2))\n",
    "    return b\n",
    "\n",
    "def intermediate_velocity(u, v, b, dt, dx, dy, nu):\n",
    "    un = u.copy()\n",
    "    vn = v.copy()\n",
    "\n",
    "    u[1:-1, 1:-1] = (un[1:-1, 1:-1] -\n",
    "                     un[1:-1, 1:-1] * dt / dx * (un[1:-1, 1:-1] - un[1:-1, :-2]) -\n",
    "                     vn[1:-1, 1:-1] * dt / dy * (un[1:-1, 1:-1] - un[:-2, 1:-1]) -\n",
    "                     dt / (2 * rho * dx) * (b[1:-1, 2:] - b[1:-1, :-2]) +\n",
    "                     nu * (dt / dx**2 * (un[1:-1, 2:] - 2 * un[1:-1, 1:-1] + un[1:-1, :-2]) +\n",
    "                           dt / dy**2 * (un[2:, 1:-1] - 2 * un[1:-1, 1:-1] + un[:-2, 1:-1])))\n",
    "\n",
    "    v[1:-1, 1:-1] = (vn[1:-1, 1:-1] -\n",
    "                     un[1:-1, 1:-1] * dt / dx * (vn[1:-1, 1:-1] - vn[1:-1, :-2]) -\n",
    "                     vn[1:-1, 1:-1] * dt / dy * (vn[1:-1, 1:-1] - vn[:-2, 1:-1]) -\n",
    "                     dt / (2 * rho * dy) * (b[2:, 1:-1] - b[:-2, 1:-1]) +\n",
    "                     nu * (dt / dx**2 * (vn[1:-1, 2:] - 2 * vn[1:-1, 1:-1] + vn[1:-1, :-2]) +\n",
    "                           dt / dy**2 * (vn[2:, 1:-1] - 2 * vn[1:-1, 1:-1] + vn[:-2, 1:-1])))\n",
    "    return u, v\n"
   ]
  },
  {
   "cell_type": "code",
   "execution_count": 91,
   "metadata": {},
   "outputs": [],
   "source": [
    "def poisson_pressure(p, dx, dy, b):\n",
    "    pn = np.zeros_like(p)\n",
    "    for _ in range(10):  # Iteration count might need to be increased for convergence\n",
    "        pn[:] = p[:]\n",
    "        p[1:-1, 1:-1] = (((pn[1:-1, 2:] + pn[1:-1, :-2]) * dy**2 +\n",
    "                          (pn[2:, 1:-1] + pn[:-2, 1:-1]) * dx**2) /\n",
    "                          (2 * (dx**2 + dy**2)) -\n",
    "                          b[1:-1, 1:-1] * dx**2 * dy**2 / (2 * (dx**2 + dy**2)))\n",
    "\n",
    "        # Apply boundary conditions for pressure\n",
    "        # Neumann boundary condition with a derivative approximated by forward/backward difference\n",
    "        p[:, -1] = p[:, -2]  # dp/dx = 0 at the right wall\n",
    "        p[0, :] = p[1, :]    # dp/dy = 0 at the bottom wall\n",
    "        p[:, 0] = p[:, 1]    # dp/dx = 0 at the left wall\n",
    "        p[-1, :] = 0         # Dirichlet condition at the top wall (could be set to a constant if needed)\n",
    "\n",
    "    return p\n"
   ]
  },
  {
   "cell_type": "code",
   "execution_count": 92,
   "metadata": {},
   "outputs": [
    {
     "data": {
      "image/png": "[encoded data removed]",
      "text/plain": [
       "<Figure size 792x504 with 2 Axes>"
      ]
     },
     "metadata": {
      "needs_background": "light"
     },
     "output_type": "display_data"
    },
    {
     "data": {
      "image/png": "[encoded data removed]",
      "text/plain": [
       "<Figure size 792x504 with 2 Axes>"
      ]
     },
     "metadata": {
      "needs_background": "light"
     },
     "output_type": "display_data"
    }
   ],
   "source": [
    "import matplotlib.pyplot as plt\n",
    "from matplotlib import cm\n",
    "\n",
    "# Initialize the 'b' array which will store the divergence\n",
    "b = np.zeros((ny, nx))\n",
    "\n",
    "nt = 3\n",
    "dt = 0.000001#min(dx*dx/nu/4, dy*dy/nu/4)\n",
    "for n in range(nt):\n",
    "    # Step 1: Build up the b array using the current velocity field\n",
    "    b = build_up_b(b, rho, dt, u, v, dx, dy)\n",
    "    \n",
    "    # Step 2: Compute intermediate velocities\n",
    "    u, v = intermediate_velocity(u, v, b, dt, dx, dy, nu)\n",
    "    \n",
    "    # Step 3: Solve the Poisson equation for the pressure correction\n",
    "    p = poisson_pressure(p, dx, dy, b)\n",
    "\n",
    "        # Step 4: Update velocities using the corrected pressure\n",
    "    u[1:-1, 1:-1] = (u[1:-1, 1:-1] -\n",
    "                     dt / rho * (p[1:-1, 2:] - p[1:-1, :-2]) / (2 * dx))\n",
    "    v[1:-1, 1:-1] = (v[1:-1, 1:-1] -\n",
    "                     dt / rho * (p[2:, 1:-1] - p[:-2, 1:-1]) / (2 * dy))\n",
    "    \n",
    "    # Boundary conditions for the velocity fields\n",
    "    # u-velocity on the top wall\n",
    "    u[ny-1, :] = 1  # Lid speed\n",
    "    # u-velocity on the other walls\n",
    "    u[0, :] = u[-1, :] = u[:, 0] = u[:, -1] = 0\n",
    "    # v-velocity on all walls\n",
    "    v[:, 0] = v[:, -1] = v[0, :] = v[-1, :] = 0\n",
    "\n",
    "    # Optional: Visualization every few steps\n",
    "    if n % 50 == 0:  # Adjust frequency of visualization as needed\n",
    "        plt.figure(figsize=(11, 7))\n",
    "        plt.contourf(u, cmap=cm.viridis)\n",
    "        plt.colorbar()\n",
    "        plt.title(f'Velocity field at timestep {n}')\n",
    "        plt.xlabel('X')\n",
    "        plt.ylabel('Y')\n",
    "        plt.show()\n",
    "\n",
    "# Final visualization\n",
    "plt.figure(figsize=(11, 7))\n",
    "plt.contourf(u, cmap=cm.viridis)\n",
    "plt.colorbar()\n",
    "plt.title('Final Velocity field')\n",
    "plt.xlabel('X')\n",
    "plt.ylabel('Y')\n",
    "plt.show()\n"
   ]
  }
 ],
 "metadata": {
  "kernelspec": {
   "display_name": "Python 3",
   "language": "python",
   "name": "python3"
  },
  "language_info": {
   "codemirror_mode": {
    "name": "ipython",
    "version": 3
   },
   "file_extension": ".py",
   "mimetype": "text/x-python",
   "name": "python",
   "nbconvert_exporter": "python",
   "pygments_lexer": "ipython3",
   "version": "3.10.12"
  }
 },
 "nbformat": 4,
 "nbformat_minor": 2
}
