{
 "cells": [
  {
   "cell_type": "code",
   "execution_count": 24,
   "metadata": {},
   "outputs": [
    {
     "data": {
      "image/png": "[encoded data removed]",
      "text/latex": [
       "$\\displaystyle \\frac{\\frac{\\partial^{2}}{\\partial x^{2}} h{\\left(x,y,t \\right)}}{d} - \\frac{2 d_{x} \\frac{\\partial}{\\partial x} h{\\left(x,y,t \\right)}}{d^{2}} - \\frac{top \\frac{\\partial^{2}}{\\partial x^{2}} \\eta{\\left(x,y,t \\right)}}{d^{2}} - \\frac{top \\frac{\\partial^{2}}{\\partial x^{2}} h{\\left(x,y,t \\right)}}{d^{2}} + \\frac{2 d_{x}^{2} top}{d^{3}}$"
      ],
      "text/plain": [
       " 2                                           2                     2           ↪\n",
       "∂                                           ∂                     ∂            ↪\n",
       "───(h(x, y, t))        ∂                top⋅───(η(x, y, t))   top⋅───(h(x, y,  ↪\n",
       "  2               2⋅dₓ⋅──(h(x, y, t))         2                     2          ↪\n",
       "∂x                     ∂x                   ∂x                    ∂x           ↪\n",
       "─────────────── - ─────────────────── - ─────────────────── - ──────────────── ↪\n",
       "       d                   2                     2                     2       ↪\n",
       "                          d                     d                     d        ↪\n",
       "\n",
       "↪                \n",
       "↪                \n",
       "↪ t))            \n",
       "↪           2    \n",
       "↪       2⋅dₓ ⋅top\n",
       "↪ ─── + ─────────\n",
       "↪           3    \n",
       "↪          d     "
      ]
     },
     "metadata": {},
     "output_type": "display_data"
    }
   ],
   "source": [
    "import sympy as sp\n",
    "\n",
    "# Initialize LaTeX printing\n",
    "sp.init_printing(use_latex=True)\n",
    "\n",
    "# Define the symbols\n",
    "x, y, z, t = sp.symbols('x y z t')\n",
    "nu = sp.symbols('nu')\n",
    "sigma_symbol = sp.symbols('sigma')\n",
    "d_symbol = sp.symbols('d')\n",
    "dx_symbol = sp.symbols('d_x')\n",
    "top_symbol = sp.symbols('top')\n",
    "\n",
    "# Define h and eta\n",
    "h = sp.Function('h')(x, y, t)\n",
    "eta = sp.Function('eta')(x, y, t)\n",
    "#h = sp.symbols('h')\n",
    "#eta = 0\n",
    "\n",
    "# Define sigma from y, h, and eta\n",
    "sigma = (z + h) / (eta + h)\n",
    "\n",
    "# Define functions\n",
    "u = sp.Function('u')(x, y, sigma, t)\n",
    "v = sp.Function('v')(x, y, sigma, t)\n",
    "w = sp.Function('w')(x, y, sigma, t)\n",
    "p = sp.Function('p')(x, y, sigma, t)\n",
    "\n",
    "velocity = sp.Matrix([u, v])\n",
    "\n",
    "# Make gradient operator\n",
    "def grad(f):\n",
    "    return sp.Matrix([f.diff(x), f.diff(y)])\n",
    "\n",
    "def laplacian(f):\n",
    "    return f.diff(x, 2) + f.diff(y, 2)\n",
    "\n",
    "d_sigma = sp.diff(sigma, x)\n",
    "dd_sigma = sp.diff(d_sigma, x)\n",
    "\n",
    "result = dd_sigma\n",
    "\n",
    "#part_1 = laplacian(u)\n",
    "#part_2 = velocity.dot(grad(u))\n",
    "\n",
    "# Combine results\n",
    "#result = sp.Eq(u.diff(t), nu * part_1 - part_2)\n",
    "#result = result.simplify()\n",
    "\n",
    "result = result.subs((eta + h), d_symbol)\n",
    "result = result.simplify()\n",
    "result = result.subs((eta + h).diff(x), dx_symbol)\n",
    "result = result.subs((z + h), top_symbol)\n",
    "result = result.expand()\n",
    "#result = result.subs(eta.diff(x,x) + h.diff(x,x), b_symbol)\n",
    "#result = result.simplify()\n",
    "\n",
    "display(result.doit())\n"
   ]
  }
 ],
 "metadata": {
  "kernelspec": {
   "display_name": "Python 3",
   "language": "python",
   "name": "python3"
  },
  "language_info": {
   "codemirror_mode": {
    "name": "ipython",
    "version": 3
   },
   "file_extension": ".py",
   "mimetype": "text/x-python",
   "name": "python",
   "nbconvert_exporter": "python",
   "pygments_lexer": "ipython3",
   "version": "3.12.4"
  }
 },
 "nbformat": 4,
 "nbformat_minor": 2
}
