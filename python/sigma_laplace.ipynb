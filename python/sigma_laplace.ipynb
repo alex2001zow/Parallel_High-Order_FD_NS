{
 "cells": [
  {
   "cell_type": "code",
   "execution_count": 66,
   "metadata": {},
   "outputs": [
    {
     "data": {
      "image/png": "[encoded data removed]",
      "text/latex": [
       "$\\displaystyle \\frac{\\partial}{\\partial t} u{\\left(x,\\sigma,t \\right)} = \\nu \\left(\\frac{\\partial^{2}}{\\partial x^{2}} u{\\left(x,\\sigma,t \\right)} + \\frac{\\frac{\\partial^{2}}{\\partial \\sigma^{2}} u{\\left(x,\\sigma,t \\right)}}{d^{2}}\\right) - u{\\left(x,\\sigma,t \\right)} \\frac{\\partial}{\\partial x} u{\\left(x,\\sigma,t \\right)} - \\frac{v{\\left(x,\\sigma,t \\right)} \\frac{\\partial}{\\partial \\sigma} u{\\left(x,\\sigma,t \\right)}}{d}$"
      ],
      "text/plain": [
       "                   ⎛                    2            ⎞                        \n",
       "                   ⎜                   ∂             ⎟                        \n",
       "                   ⎜                  ───(u(x, σ, t))⎟                        \n",
       "                   ⎜  2                 2            ⎟                        \n",
       "∂                  ⎜ ∂                ∂σ             ⎟              ∂         \n",
       "──(u(x, σ, t)) = ν⋅⎜───(u(x, σ, t)) + ───────────────⎟ - u(x, σ, t)⋅──(u(x, σ,\n",
       "∂t                 ⎜  2                       2      ⎟              ∂x        \n",
       "                   ⎝∂x                       d       ⎠                        \n",
       "\n",
       "                                \n",
       "                                \n",
       "                  ∂             \n",
       "       v(x, σ, t)⋅──(u(x, σ, t))\n",
       "                  ∂σ            \n",
       " t)) - ─────────────────────────\n",
       "                   d            \n",
       "                                "
      ]
     },
     "metadata": {},
     "output_type": "display_data"
    }
   ],
   "source": [
    "import sympy as sp\n",
    "\n",
    "# Initialize LaTeX printing\n",
    "sp.init_printing(use_latex=True)\n",
    "\n",
    "# Define the symbols\n",
    "x, y, t = sp.symbols('x y t')\n",
    "nu = sp.symbols('nu')\n",
    "sigma_symbol = sp.symbols('sigma')\n",
    "d_symbol = sp.symbols('d')\n",
    "f_symbol = sp.symbols('f')\n",
    "\n",
    "# Define h and eta\n",
    "#h = sp.Function('h')(x, t)\n",
    "#eta = sp.Function('eta')(x, t)\n",
    "h = sp.symbols('h')\n",
    "eta = 0\n",
    "\n",
    "# Define sigma from y, h, and eta\n",
    "sigma = (y + h) / (eta + h)\n",
    "\n",
    "# Define functions\n",
    "u = sp.Function('u')(x, sigma, t)\n",
    "v = sp.Function('v')(x, sigma, t)\n",
    "p = sp.Function('p')(x, sigma, t)\n",
    "\n",
    "velocity = sp.Matrix([u, v])\n",
    "\n",
    "# Make gradient operator\n",
    "def grad(f):\n",
    "    return sp.Matrix([f.diff(x), f.diff(y)])\n",
    "\n",
    "def laplacian(f):\n",
    "    return f.diff(x, 2) + f.diff(y, 2)\n",
    "\n",
    "part_1 = laplacian(u)\n",
    "part_2 = velocity.dot(grad(u))\n",
    "\n",
    "# Combine results\n",
    "result = sp.Eq(u.diff(t), nu * part_1 - part_2)\n",
    "#result = result.simplify()\n",
    "\n",
    "result = result.subs((y + h) / (eta + h), sigma_symbol)\n",
    "result = result.subs((eta + h), d_symbol)\n",
    "#result = result.subs(sp.Derivative(eta,x) + sp.Derivative(h,x),f_symbol)\n",
    "\n",
    "display(result.doit())\n"
   ]
  }
 ],
 "metadata": {
  "kernelspec": {
   "display_name": "Python 3",
   "language": "python",
   "name": "python3"
  },
  "language_info": {
   "codemirror_mode": {
    "name": "ipython",
    "version": 3
   },
   "file_extension": ".py",
   "mimetype": "text/x-python",
   "name": "python",
   "nbconvert_exporter": "python",
   "pygments_lexer": "ipython3",
   "version": "3.12.4"
  }
 },
 "nbformat": 4,
 "nbformat_minor": 2
}
