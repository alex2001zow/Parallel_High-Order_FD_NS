{
 "cells": [
  {
   "cell_type": "code",
   "execution_count": 1,
   "metadata": {
    "execution": {
     "iopub.execute_input": "2024-03-20T15:55:09.740671Z",
     "iopub.status.busy": "2024-03-20T15:55:09.740447Z",
     "iopub.status.idle": "2024-03-20T15:55:09.998077Z",
     "shell.execute_reply": "2024-03-20T15:55:09.997751Z"
    }
   },
   "outputs": [],
   "source": [
    "### IMPORTS ###\n",
    "import os\n",
    "import struct\n",
    "import numpy as np\n",
    "import math\n",
    "import matplotlib.pyplot as plt\n",
    "from ipywidgets import interact, IntSlider, fixed\n",
    "import ipywidgets as widgets"
   ]
  },
  {
   "cell_type": "code",
   "execution_count": 2,
   "metadata": {
    "execution": {
     "iopub.execute_input": "2024-03-20T15:55:10.000137Z",
     "iopub.status.busy": "2024-03-20T15:55:09.999781Z",
     "iopub.status.idle": "2024-03-20T15:55:10.001844Z",
     "shell.execute_reply": "2024-03-20T15:55:10.001561Z"
    }
   },
   "outputs": [],
   "source": [
    "### SETTINGS ###\n",
    "np.set_printoptions(precision=3, suppress=True, threshold=np.inf)"
   ]
  },
  {
   "cell_type": "code",
   "execution_count": 3,
   "metadata": {
    "execution": {
     "iopub.execute_input": "2024-03-20T15:55:10.003115Z",
     "iopub.status.busy": "2024-03-20T15:55:10.002891Z",
     "iopub.status.idle": "2024-03-20T15:55:10.004863Z",
     "shell.execute_reply": "2024-03-20T15:55:10.004616Z"
    }
   },
   "outputs": [],
   "source": [
    "### FOLDER SETTINGS ###\n",
    "input_folder = \"../output/\"\n",
    "output_folder = \"output/\"\n",
    "\n",
    "file_solution_path = input_folder + \"/system_solution.dat\"  # Replace with your actual file path\n",
    "\n",
    "# Create output folder if it doesn't exist\n",
    "if not os.path.exists(output_folder):\n",
    "    os.makedirs(output_folder)"
   ]
  },
  {
   "cell_type": "code",
   "execution_count": 4,
   "metadata": {
    "execution": {
     "iopub.execute_input": "2024-03-20T15:55:10.006043Z",
     "iopub.status.busy": "2024-03-20T15:55:10.005832Z",
     "iopub.status.idle": "2024-03-20T15:55:10.007503Z",
     "shell.execute_reply": "2024-03-20T15:55:10.007267Z"
    }
   },
   "outputs": [],
   "source": [
    "format_string = '<d'  # '<d' for little-endian, '>d' for big-endian"
   ]
  },
  {
   "cell_type": "code",
   "execution_count": 5,
   "metadata": {
    "execution": {
     "iopub.execute_input": "2024-03-20T15:55:10.008722Z",
     "iopub.status.busy": "2024-03-20T15:55:10.008518Z",
     "iopub.status.idle": "2024-03-20T15:55:10.013562Z",
     "shell.execute_reply": "2024-03-20T15:55:10.013277Z"
    }
   },
   "outputs": [],
   "source": [
    "### FUNCTIONS ###\n",
    "\n",
    "# This function creates a ND numpy array\n",
    "def np_u_analytical_poisson(ndims, global_domain_begin, global_domain_end, grid_size):\n",
    "    # Create coordinate arrays for each dimension\n",
    "    p_coords = [np.linspace(global_domain_begin[i], global_domain_end[i], grid_size[i]) for i in range(ndims)]\n",
    "    \n",
    "    # Generate meshgrid from coordinate arrays\n",
    "    meshgrid = np.meshgrid(*p_coords, indexing='ij')\n",
    "    \n",
    "    # Compute function values\n",
    "    func_val = np.prod(np.sin(np.pi * np.stack(meshgrid)),axis=0)\n",
    "    \n",
    "    return func_val, meshgrid\n",
    "\n",
    "def plot_2D(true_solution, approximate_solution, error):\n",
    "    fig, axes = plt.subplots(1, 3, figsize=(18, 6))\n",
    "\n",
    "    # True solution plot\n",
    "    cax1 = axes[0].imshow(true_solution, cmap='viridis', origin='lower')\n",
    "    axes[0].set_title('True Solution')\n",
    "    fig.colorbar(cax1, ax=axes[0], orientation='vertical')\n",
    "\n",
    "    # Approximate solution plot\n",
    "    cax2 = axes[1].imshow(approximate_solution, cmap='viridis', origin='lower')\n",
    "    axes[1].set_title('Approximate Solution')\n",
    "    fig.colorbar(cax2, ax=axes[1], orientation='vertical')\n",
    "\n",
    "    # Error plot\n",
    "    cax3 = axes[2].imshow(error, cmap='hot', origin='lower')\n",
    "    axes[2].set_title('Error')\n",
    "    fig.colorbar(cax3, ax=axes[2], orientation='vertical')\n",
    "\n",
    "    plt.tight_layout()\n",
    "    plt.show()\n",
    "\n",
    "def plot_slice_3D(true_solution, approximate_solution, error, z_index=0):\n",
    "    fig, axes = plt.subplots(1, 3, figsize=(18, 6))\n",
    "\n",
    "    # True solution plot for the given slice\n",
    "    cax1 = axes[0].imshow(true_solution[:, :, z_index], cmap='viridis', origin='lower')\n",
    "    axes[0].set_title(f'True Solution (Slice at z={z_index})')\n",
    "    fig.colorbar(cax1, ax=axes[0], orientation='vertical')\n",
    "\n",
    "    # Approximate solution plot for the given slice\n",
    "    cax2 = axes[1].imshow(approximate_solution[:, :, z_index], cmap='viridis', origin='lower')\n",
    "    axes[1].set_title(f'Approximate Solution (Slice at z={z_index})')\n",
    "    fig.colorbar(cax2, ax=axes[1], orientation='vertical')\n",
    "\n",
    "    # Error plot for the given slice\n",
    "    cax3 = axes[2].imshow(error[:, :, z_index], cmap='hot', origin='lower')\n",
    "    axes[2].set_title(f'Error (Slice at z={z_index})')\n",
    "    fig.colorbar(cax3, ax=axes[2], orientation='vertical')\n",
    "\n",
    "    plt.tight_layout()\n",
    "    plt.show()"
   ]
  },
  {
   "cell_type": "code",
   "execution_count": 6,
   "metadata": {
    "execution": {
     "iopub.execute_input": "2024-03-20T15:55:10.014859Z",
     "iopub.status.busy": "2024-03-20T15:55:10.014641Z",
     "iopub.status.idle": "2024-03-20T15:55:10.016635Z",
     "shell.execute_reply": "2024-03-20T15:55:10.016370Z"
    }
   },
   "outputs": [],
   "source": [
    "with open(file_solution_path, 'rb') as f:\n",
    "    data = np.fromfile(f, dtype=np.float64)\n",
    "\n",
    "    approximate_solution = data\n",
    "\n",
    "approximate_solution = np.array(approximate_solution)"
   ]
  },
  {
   "cell_type": "code",
   "execution_count": 7,
   "metadata": {
    "execution": {
     "iopub.execute_input": "2024-03-20T15:55:10.017787Z",
     "iopub.status.busy": "2024-03-20T15:55:10.017585Z",
     "iopub.status.idle": "2024-03-20T15:55:10.019138Z",
     "shell.execute_reply": "2024-03-20T15:55:10.018908Z"
    }
   },
   "outputs": [],
   "source": [
    "#print(approximate_solution)"
   ]
  },
  {
   "cell_type": "code",
   "execution_count": 8,
   "metadata": {
    "execution": {
     "iopub.execute_input": "2024-03-20T15:55:10.020295Z",
     "iopub.status.busy": "2024-03-20T15:55:10.020092Z",
     "iopub.status.idle": "2024-03-20T15:55:10.022358Z",
     "shell.execute_reply": "2024-03-20T15:55:10.022119Z"
    }
   },
   "outputs": [
    {
     "name": "stdout",
     "output_type": "stream",
     "text": [
      "Grid size:  [4 4 4]\n"
     ]
    }
   ],
   "source": [
    "ndims = 3\n",
    "grid_size = int(math.ceil((approximate_solution.size) ** (1 / ndims)))\n",
    "\n",
    "grid_size_array = np.full(ndims, grid_size)\n",
    "print(\"Grid size: \", grid_size_array)"
   ]
  },
  {
   "cell_type": "code",
   "execution_count": 9,
   "metadata": {
    "execution": {
     "iopub.execute_input": "2024-03-20T15:55:10.042631Z",
     "iopub.status.busy": "2024-03-20T15:55:10.042400Z",
     "iopub.status.idle": "2024-03-20T15:55:10.044193Z",
     "shell.execute_reply": "2024-03-20T15:55:10.043936Z"
    }
   },
   "outputs": [],
   "source": [
    "domain_begin_array = np.full(ndims, 0.0)\n",
    "domain_end_array = np.full(ndims, 1.0)"
   ]
  },
  {
   "cell_type": "code",
   "execution_count": 10,
   "metadata": {
    "execution": {
     "iopub.execute_input": "2024-03-20T15:55:10.045374Z",
     "iopub.status.busy": "2024-03-20T15:55:10.045175Z",
     "iopub.status.idle": "2024-03-20T15:55:10.046858Z",
     "shell.execute_reply": "2024-03-20T15:55:10.046628Z"
    }
   },
   "outputs": [],
   "source": [
    "# Reshape the data into a 2D array\n",
    "approximate_solution = np.array(approximate_solution)\n",
    "approximate_solution = approximate_solution.reshape(grid_size_array)"
   ]
  },
  {
   "cell_type": "code",
   "execution_count": 11,
   "metadata": {
    "execution": {
     "iopub.execute_input": "2024-03-20T15:55:10.048023Z",
     "iopub.status.busy": "2024-03-20T15:55:10.047805Z",
     "iopub.status.idle": "2024-03-20T15:55:10.049369Z",
     "shell.execute_reply": "2024-03-20T15:55:10.049140Z"
    }
   },
   "outputs": [],
   "source": [
    "#print(approximate_solution)"
   ]
  },
  {
   "cell_type": "code",
   "execution_count": 12,
   "metadata": {
    "execution": {
     "iopub.execute_input": "2024-03-20T15:55:10.050498Z",
     "iopub.status.busy": "2024-03-20T15:55:10.050302Z",
     "iopub.status.idle": "2024-03-20T15:55:10.052792Z",
     "shell.execute_reply": "2024-03-20T15:55:10.052552Z"
    }
   },
   "outputs": [
    {
     "name": "stdout",
     "output_type": "stream",
     "text": [
      "Max error:  0.9666099411855364\n",
      "Mean error:  0.25831630690568474\n",
      "Std dev error:  0.3095040192770507\n"
     ]
    }
   ],
   "source": [
    "true_solution, mesh = np_u_analytical_poisson(ndims, domain_begin_array, domain_end_array, grid_size_array)\n",
    "\n",
    "error = np.abs(approximate_solution - true_solution)\n",
    "print(\"Max error: \", np.max(error))\n",
    "print(\"Mean error: \", np.mean(error))\n",
    "print(\"Std dev error: \", np.std(error))\n"
   ]
  },
  {
   "cell_type": "code",
   "execution_count": 13,
   "metadata": {
    "execution": {
     "iopub.execute_input": "2024-03-20T15:55:10.054108Z",
     "iopub.status.busy": "2024-03-20T15:55:10.053914Z",
     "iopub.status.idle": "2024-03-20T15:55:10.458699Z",
     "shell.execute_reply": "2024-03-20T15:55:10.458408Z"
    }
   },
   "outputs": [
    {
     "data": {
      "application/vnd.jupyter.widget-view+json": {
       "model_id": "0766e184dfb74086ab887b5ba24e856c",
       "version_major": 2,
       "version_minor": 0
      },
      "text/plain": [
       "interactive(children=(IntSlider(value=0, description='Z index', max=3), Output()), _dom_classes=('widget-inter…"
      ]
     },
     "metadata": {},
     "output_type": "display_data"
    }
   ],
   "source": [
    "# PLOTTING\n",
    "if(ndims == 2):\n",
    "    plot_2D(true_solution, approximate_solution, error)\n",
    "    \n",
    "if(ndims == 3):\n",
    "    # Adjust the max value of the slider to match the size of your 3rd dimension\n",
    "    z_slider = IntSlider(min=0, max=true_solution.shape[-1]-1, step=1, value=0, description='Z index')\n",
    "\n",
    "    # Use 'fixed' for non-interactive arguments\n",
    "    interact(plot_slice_3D, true_solution=fixed(true_solution), approximate_solution=fixed(approximate_solution), error=fixed(error), z_index=z_slider)"
   ]
  }
 ],
 "metadata": {
  "kernelspec": {
   "display_name": "Python 3",
   "language": "python",
   "name": "python3"
  },
  "language_info": {
   "codemirror_mode": {
    "name": "ipython",
    "version": 3
   },
   "file_extension": ".py",
   "mimetype": "text/x-python",
   "name": "python",
   "nbconvert_exporter": "python",
   "pygments_lexer": "ipython3",
   "version": "3.11.8"
  },
  "widgets": {
   "application/vnd.jupyter.widget-state+json": {
    "state": {
     "0766e184dfb74086ab887b5ba24e856c": {
      "model_module": "@jupyter-widgets/controls",
      "model_module_version": "2.0.0",
      "model_name": "VBoxModel",
      "state": {
       "_dom_classes": [
        "widget-interact"
       ],
       "_model_module": "@jupyter-widgets/controls",
       "_model_module_version": "2.0.0",
       "_model_name": "VBoxModel",
       "_view_count": null,
       "_view_module": "@jupyter-widgets/controls",
       "_view_module_version": "2.0.0",
       "_view_name": "VBoxView",
       "box_style": "",
       "children": [
        "IPY_MODEL_b227feedb05345ada8c912ea9711a52f",
        "IPY_MODEL_4ebb7ad180bd46ea8d59eb6c94a546bf"
       ],
       "layout": "IPY_MODEL_a1205507236a418ba47226860eb6277b",
       "tabbable": null,
       "tooltip": null
      }
     },
     "3ffed5b99ec344c2b3b47540deaa3fb9": {
      "model_module": "@jupyter-widgets/base",
      "model_module_version": "2.0.0",
      "model_name": "LayoutModel",
      "state": {
       "_model_module": "@jupyter-widgets/base",
       "_model_module_version": "2.0.0",
       "_model_name": "LayoutModel",
       "_view_count": null,
       "_view_module": "@jupyter-widgets/base",
       "_view_module_version": "2.0.0",
       "_view_name": "LayoutView",
       "align_content": null,
       "align_items": null,
       "align_self": null,
       "border_bottom": null,
       "border_left": null,
       "border_right": null,
       "border_top": null,
       "bottom": null,
       "display": null,
       "flex": null,
       "flex_flow": null,
       "grid_area": null,
       "grid_auto_columns": null,
       "grid_auto_flow": null,
       "grid_auto_rows": null,
       "grid_column": null,
       "grid_gap": null,
       "grid_row": null,
       "grid_template_areas": null,
       "grid_template_columns": null,
       "grid_template_rows": null,
       "height": null,
       "justify_content": null,
       "justify_items": null,
       "left": null,
       "margin": null,
       "max_height": null,
       "max_width": null,
       "min_height": null,
       "min_width": null,
       "object_fit": null,
       "object_position": null,
       "order": null,
       "overflow": null,
       "padding": null,
       "right": null,
       "top": null,
       "visibility": null,
       "width": null
      }
     },
     "4ebb7ad180bd46ea8d59eb6c94a546bf": {
      "model_module": "@jupyter-widgets/output",
      "model_module_version": "1.0.0",
      "model_name": "OutputModel",
      "state": {
       "_dom_classes": [],
       "_model_module": "@jupyter-widgets/output",
       "_model_module_version": "1.0.0",
       "_model_name": "OutputModel",
       "_view_count": null,
       "_view_module": "@jupyter-widgets/output",
       "_view_module_version": "1.0.0",
       "_view_name": "OutputView",
       "layout": "IPY_MODEL_e3f9dd828818447d8ae6294df9b0dd76",
       "msg_id": "",
       "outputs": [
        {
         "data": {
          "image/png": "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",
          "text/plain": "<Figure size 1800x600 with 6 Axes>"
         },
         "metadata": {},
         "output_type": "display_data"
        }
       ],
       "tabbable": null,
       "tooltip": null
      }
     },
     "5bd904c73b674503ab05d419c496c306": {
      "model_module": "@jupyter-widgets/controls",
      "model_module_version": "2.0.0",
      "model_name": "SliderStyleModel",
      "state": {
       "_model_module": "@jupyter-widgets/controls",
       "_model_module_version": "2.0.0",
       "_model_name": "SliderStyleModel",
       "_view_count": null,
       "_view_module": "@jupyter-widgets/base",
       "_view_module_version": "2.0.0",
       "_view_name": "StyleView",
       "description_width": "",
       "handle_color": null
      }
     },
     "a1205507236a418ba47226860eb6277b": {
      "model_module": "@jupyter-widgets/base",
      "model_module_version": "2.0.0",
      "model_name": "LayoutModel",
      "state": {
       "_model_module": "@jupyter-widgets/base",
       "_model_module_version": "2.0.0",
       "_model_name": "LayoutModel",
       "_view_count": null,
       "_view_module": "@jupyter-widgets/base",
       "_view_module_version": "2.0.0",
       "_view_name": "LayoutView",
       "align_content": null,
       "align_items": null,
       "align_self": null,
       "border_bottom": null,
       "border_left": null,
       "border_right": null,
       "border_top": null,
       "bottom": null,
       "display": null,
       "flex": null,
       "flex_flow": null,
       "grid_area": null,
       "grid_auto_columns": null,
       "grid_auto_flow": null,
       "grid_auto_rows": null,
       "grid_column": null,
       "grid_gap": null,
       "grid_row": null,
       "grid_template_areas": null,
       "grid_template_columns": null,
       "grid_template_rows": null,
       "height": null,
       "justify_content": null,
       "justify_items": null,
       "left": null,
       "margin": null,
       "max_height": null,
       "max_width": null,
       "min_height": null,
       "min_width": null,
       "object_fit": null,
       "object_position": null,
       "order": null,
       "overflow": null,
       "padding": null,
       "right": null,
       "top": null,
       "visibility": null,
       "width": null
      }
     },
     "b227feedb05345ada8c912ea9711a52f": {
      "model_module": "@jupyter-widgets/controls",
      "model_module_version": "2.0.0",
      "model_name": "IntSliderModel",
      "state": {
       "_dom_classes": [],
       "_model_module": "@jupyter-widgets/controls",
       "_model_module_version": "2.0.0",
       "_model_name": "IntSliderModel",
       "_view_count": null,
       "_view_module": "@jupyter-widgets/controls",
       "_view_module_version": "2.0.0",
       "_view_name": "IntSliderView",
       "behavior": "drag-tap",
       "continuous_update": true,
       "description": "Z index",
       "description_allow_html": false,
       "disabled": false,
       "layout": "IPY_MODEL_3ffed5b99ec344c2b3b47540deaa3fb9",
       "max": 3,
       "min": 0,
       "orientation": "horizontal",
       "readout": true,
       "readout_format": "d",
       "step": 1,
       "style": "IPY_MODEL_5bd904c73b674503ab05d419c496c306",
       "tabbable": null,
       "tooltip": null,
       "value": 0
      }
     },
     "e3f9dd828818447d8ae6294df9b0dd76": {
      "model_module": "@jupyter-widgets/base",
      "model_module_version": "2.0.0",
      "model_name": "LayoutModel",
      "state": {
       "_model_module": "@jupyter-widgets/base",
       "_model_module_version": "2.0.0",
       "_model_name": "LayoutModel",
       "_view_count": null,
       "_view_module": "@jupyter-widgets/base",
       "_view_module_version": "2.0.0",
       "_view_name": "LayoutView",
       "align_content": null,
       "align_items": null,
       "align_self": null,
       "border_bottom": null,
       "border_left": null,
       "border_right": null,
       "border_top": null,
       "bottom": null,
       "display": null,
       "flex": null,
       "flex_flow": null,
       "grid_area": null,
       "grid_auto_columns": null,
       "grid_auto_flow": null,
       "grid_auto_rows": null,
       "grid_column": null,
       "grid_gap": null,
       "grid_row": null,
       "grid_template_areas": null,
       "grid_template_columns": null,
       "grid_template_rows": null,
       "height": null,
       "justify_content": null,
       "justify_items": null,
       "left": null,
       "margin": null,
       "max_height": null,
       "max_width": null,
       "min_height": null,
       "min_width": null,
       "object_fit": null,
       "object_position": null,
       "order": null,
       "overflow": null,
       "padding": null,
       "right": null,
       "top": null,
       "visibility": null,
       "width": null
      }
     }
    },
    "version_major": 2,
    "version_minor": 0
   }
  }
 },
 "nbformat": 4,
 "nbformat_minor": 2
}
