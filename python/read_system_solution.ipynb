{
 "cells": [
  {
   "cell_type": "code",
   "execution_count": 190,
   "metadata": {
    "execution": {
     "iopub.execute_input": "2024-03-20T16:26:16.445098Z",
     "iopub.status.busy": "2024-03-20T16:26:16.444874Z",
     "iopub.status.idle": "2024-03-20T16:26:16.689385Z",
     "shell.execute_reply": "2024-03-20T16:26:16.689075Z"
    }
   },
   "outputs": [],
   "source": [
    "### IMPORTS ###\n",
    "import os\n",
    "import struct\n",
    "import numpy as np\n",
    "import math\n",
    "import matplotlib.pyplot as plt\n",
    "from ipywidgets import interact, IntSlider, fixed\n",
    "import ipywidgets as widgets"
   ]
  },
  {
   "cell_type": "code",
   "execution_count": 191,
   "metadata": {
    "execution": {
     "iopub.execute_input": "2024-03-20T16:26:16.691155Z",
     "iopub.status.busy": "2024-03-20T16:26:16.690861Z",
     "iopub.status.idle": "2024-03-20T16:26:16.692767Z",
     "shell.execute_reply": "2024-03-20T16:26:16.692520Z"
    }
   },
   "outputs": [],
   "source": [
    "### SETTINGS ###\n",
    "np.set_printoptions(precision=3, suppress=True, threshold=np.inf)"
   ]
  },
  {
   "cell_type": "code",
   "execution_count": 192,
   "metadata": {
    "execution": {
     "iopub.execute_input": "2024-03-20T16:26:16.693923Z",
     "iopub.status.busy": "2024-03-20T16:26:16.693752Z",
     "iopub.status.idle": "2024-03-20T16:26:16.695625Z",
     "shell.execute_reply": "2024-03-20T16:26:16.695387Z"
    }
   },
   "outputs": [],
   "source": [
    "### FOLDER SETTINGS ###\n",
    "input_folder = \"../output/\"\n",
    "\n",
    "file_solution_path = input_folder + \"/system_solution.dat\"  # Replace with your actual file path"
   ]
  },
  {
   "cell_type": "code",
   "execution_count": 193,
   "metadata": {
    "execution": {
     "iopub.execute_input": "2024-03-20T16:26:16.696738Z",
     "iopub.status.busy": "2024-03-20T16:26:16.696576Z",
     "iopub.status.idle": "2024-03-20T16:26:16.698137Z",
     "shell.execute_reply": "2024-03-20T16:26:16.697900Z"
    }
   },
   "outputs": [],
   "source": [
    "format_string = '<d'  # '<d' for little-endian, '>d' for big-endian"
   ]
  },
  {
   "cell_type": "code",
   "execution_count": 194,
   "metadata": {},
   "outputs": [],
   "source": [
    "### Analytical solution functions ###\n",
    "\n",
    "# This function creates a ND numpy array\n",
    "def np_u_analytical_poisson(ndims, global_domain_begin, global_domain_end, grid_size):\n",
    "    # Create coordinate arrays for each dimension\n",
    "    p_coords = [np.linspace(global_domain_begin[i], global_domain_end[i], grid_size[i]) for i in range(ndims)]\n",
    "    \n",
    "    # Generate meshgrid from coordinate arrays\n",
    "    meshgrid = np.meshgrid(*p_coords, indexing='ij')\n",
    "    \n",
    "    # Compute function values\n",
    "    func_val = np.prod(np.sin(np.pi * np.stack(meshgrid)),axis=0)\n",
    "    \n",
    "    return func_val, meshgrid"
   ]
  },
  {
   "cell_type": "code",
   "execution_count": 195,
   "metadata": {
    "execution": {
     "iopub.execute_input": "2024-03-20T16:26:16.699265Z",
     "iopub.status.busy": "2024-03-20T16:26:16.699104Z",
     "iopub.status.idle": "2024-03-20T16:26:16.704026Z",
     "shell.execute_reply": "2024-03-20T16:26:16.703753Z"
    }
   },
   "outputs": [],
   "source": [
    "### PLOTTING FUNCTIONS ###\n",
    "\n",
    "def plot_1D(true_solution, approximate_solution, error):\n",
    "    fig, axes = plt.subplots(1, 3, figsize=(18, 6))\n",
    "\n",
    "    x_values = np.arange(len(true_solution))\n",
    "\n",
    "    # True solution plot\n",
    "    axes[0].scatter(x_values, true_solution, color='blue', linestyle='--', label='True Solution')\n",
    "    axes[0].set_title('True Solution')\n",
    "    axes[0].set_xlabel('X')\n",
    "    axes[0].set_ylabel('Y')\n",
    "    axes[0].legend()\n",
    "\n",
    "    # Approximate solution plot\n",
    "    axes[1].scatter(x_values, approximate_solution, color='green', linestyle='--', label='Approximate Solution')\n",
    "    axes[1].set_title('Approximate Solution')\n",
    "    axes[1].set_xlabel('X')\n",
    "    axes[1].set_ylabel('Y')\n",
    "    axes[1].legend()\n",
    "\n",
    "    # Error plot\n",
    "    axes[2].scatter(x_values, error, color='red', linestyle='--', label='Error')\n",
    "    axes[2].set_title('Error')\n",
    "    axes[2].set_xlabel('X')\n",
    "    axes[2].set_ylabel('Y')\n",
    "    axes[2].legend()\n",
    "\n",
    "    plt.tight_layout()\n",
    "    plt.show()\n",
    "\n",
    "def plot_2D(true_solution, approximate_solution, error):\n",
    "    fig, axes = plt.subplots(1, 3, figsize=(18, 6))\n",
    "\n",
    "    # True solution plot\n",
    "    cax1 = axes[0].imshow(true_solution, cmap='viridis', origin='lower')\n",
    "    axes[0].set_title('True Solution')\n",
    "    fig.colorbar(cax1, ax=axes[0], orientation='vertical')\n",
    "\n",
    "    # Approximate solution plot\n",
    "    cax2 = axes[1].imshow(approximate_solution, cmap='viridis', origin='lower')\n",
    "    axes[1].set_title('Approximate Solution')\n",
    "    fig.colorbar(cax2, ax=axes[1], orientation='vertical')\n",
    "\n",
    "    # Error plot\n",
    "    cax3 = axes[2].imshow(error, cmap='hot', origin='lower')\n",
    "    axes[2].set_title('Error')\n",
    "    fig.colorbar(cax3, ax=axes[2], orientation='vertical')\n",
    "\n",
    "    plt.tight_layout()\n",
    "    plt.show()\n",
    "\n",
    "def plot_slice_3D(true_solution, approximate_solution, error, z_index=0):\n",
    "    fig, axes = plt.subplots(1, 3, figsize=(18, 6))\n",
    "\n",
    "    # True solution plot for the given slice\n",
    "    cax1 = axes[0].imshow(true_solution[:, :, z_index], cmap='viridis', origin='lower')\n",
    "    axes[0].set_title(f'True Solution (Slice at z={z_index})')\n",
    "    fig.colorbar(cax1, ax=axes[0], orientation='vertical')\n",
    "\n",
    "    # Approximate solution plot for the given slice\n",
    "    cax2 = axes[1].imshow(approximate_solution[:, :, z_index], cmap='viridis', origin='lower')\n",
    "    axes[1].set_title(f'Approximate Solution (Slice at z={z_index})')\n",
    "    fig.colorbar(cax2, ax=axes[1], orientation='vertical')\n",
    "\n",
    "    # Error plot for the given slice\n",
    "    cax3 = axes[2].imshow(error[:, :, z_index], cmap='hot', origin='lower')\n",
    "    axes[2].set_title(f'Error (Slice at z={z_index})')\n",
    "    fig.colorbar(cax3, ax=axes[2], orientation='vertical')\n",
    "\n",
    "    plt.tight_layout()\n",
    "    plt.show()"
   ]
  },
  {
   "cell_type": "code",
   "execution_count": 196,
   "metadata": {
    "execution": {
     "iopub.execute_input": "2024-03-20T16:26:16.705209Z",
     "iopub.status.busy": "2024-03-20T16:26:16.705028Z",
     "iopub.status.idle": "2024-03-20T16:26:16.707161Z",
     "shell.execute_reply": "2024-03-20T16:26:16.706881Z"
    }
   },
   "outputs": [],
   "source": [
    "with open(file_solution_path, 'rb') as f:\n",
    "    data = np.fromfile(f, dtype=np.float64)\n",
    "\n",
    "    approximate_solution = data\n",
    "\n",
    "approximate_solution = np.array(approximate_solution)"
   ]
  },
  {
   "cell_type": "code",
   "execution_count": 197,
   "metadata": {
    "execution": {
     "iopub.execute_input": "2024-03-20T16:26:16.710988Z",
     "iopub.status.busy": "2024-03-20T16:26:16.710822Z",
     "iopub.status.idle": "2024-03-20T16:26:16.713339Z",
     "shell.execute_reply": "2024-03-20T16:26:16.713010Z"
    }
   },
   "outputs": [
    {
     "name": "stdout",
     "output_type": "stream",
     "text": [
      "Layout:  (8, 1)\n"
     ]
    }
   ],
   "source": [
    "ndims = 1\n",
    "num_data_per_elements = 1\n",
    "grid_size = int(math.ceil(((approximate_solution.size)/num_data_per_elements) ** (1 / ndims)))\n",
    "\n",
    "if(ndims == 1):\n",
    "    layout = (grid_size, num_data_per_elements)\n",
    "\n",
    "if(ndims == 2):\n",
    "    layout = (grid_size, grid_size, num_data_per_elements)\n",
    "\n",
    "if(ndims == 3):\n",
    "    layout = (grid_size, grid_size, grid_size, num_data_per_elements)\n",
    "\n",
    "grid_size_array = np.full(ndims, grid_size)\n",
    "total_number_of_elements = np.prod(grid_size_array)\n",
    "print(\"Layout: \", layout)"
   ]
  },
  {
   "cell_type": "code",
   "execution_count": 198,
   "metadata": {
    "execution": {
     "iopub.execute_input": "2024-03-20T16:26:16.733828Z",
     "iopub.status.busy": "2024-03-20T16:26:16.733643Z",
     "iopub.status.idle": "2024-03-20T16:26:16.735521Z",
     "shell.execute_reply": "2024-03-20T16:26:16.735242Z"
    }
   },
   "outputs": [],
   "source": [
    "domain_begin_array = np.full(ndims, 0.0)\n",
    "domain_end_array = np.full(ndims, 1.0)"
   ]
  },
  {
   "cell_type": "code",
   "execution_count": 199,
   "metadata": {
    "execution": {
     "iopub.execute_input": "2024-03-20T16:26:16.736686Z",
     "iopub.status.busy": "2024-03-20T16:26:16.736525Z",
     "iopub.status.idle": "2024-03-20T16:26:16.738324Z",
     "shell.execute_reply": "2024-03-20T16:26:16.738053Z"
    }
   },
   "outputs": [],
   "source": [
    "# Reshape the data into a 2D array\n",
    "approximate_solution = np.array(approximate_solution)\n",
    "approximate_solution = approximate_solution.reshape(layout)"
   ]
  },
  {
   "cell_type": "code",
   "execution_count": 200,
   "metadata": {
    "execution": {
     "iopub.execute_input": "2024-03-20T16:26:16.742091Z",
     "iopub.status.busy": "2024-03-20T16:26:16.741932Z",
     "iopub.status.idle": "2024-03-20T16:26:16.744551Z",
     "shell.execute_reply": "2024-03-20T16:26:16.744257Z"
    }
   },
   "outputs": [
    {
     "name": "stdout",
     "output_type": "stream",
     "text": [
      "Max error: 1.0e+00\n"
     ]
    }
   ],
   "source": [
    "true_solution, mesh = np_u_analytical_poisson(ndims, domain_begin_array, domain_end_array, grid_size_array)\n",
    "\n",
    "error = np.abs(approximate_solution[:,0] - true_solution)\n",
    "print(f\"Max error: {np.max(error):.1e}\")\n"
   ]
  },
  {
   "cell_type": "code",
   "execution_count": 201,
   "metadata": {},
   "outputs": [
    {
     "data": {
      "image/png": "[encoded data removed]",
      "text/plain": [
       "<Figure size 1296x432 with 3 Axes>"
      ]
     },
     "metadata": {
      "needs_background": "light"
     },
     "output_type": "display_data"
    }
   ],
   "source": [
    "if(ndims == 1):\n",
    "    plot_1D(true_solution, approximate_solution, error)"
   ]
  },
  {
   "cell_type": "code",
   "execution_count": 202,
   "metadata": {},
   "outputs": [],
   "source": [
    "if(ndims == 2):\n",
    "    plot_2D(true_solution, approximate_solution, error)"
   ]
  },
  {
   "cell_type": "code",
   "execution_count": 203,
   "metadata": {
    "execution": {
     "iopub.execute_input": "2024-03-20T16:26:16.745706Z",
     "iopub.status.busy": "2024-03-20T16:26:16.745538Z",
     "iopub.status.idle": "2024-03-20T16:26:17.150221Z",
     "shell.execute_reply": "2024-03-20T16:26:17.149952Z"
    }
   },
   "outputs": [],
   "source": [
    "if(ndims == 3):\n",
    "    # Adjust the max value of the slider to match the size of your 3rd dimension\n",
    "    z_slider = IntSlider(min=0, max=true_solution.shape[-1]-1, step=1, value=0, description='Z index')\n",
    "\n",
    "    # Use 'fixed' for non-interactive arguments\n",
    "    interact(plot_slice_3D, true_solution=fixed(true_solution), approximate_solution=fixed(approximate_solution), error=fixed(error), z_index=z_slider)"
   ]
  }
 ],
 "metadata": {
  "kernelspec": {
   "display_name": "Python 3",
   "language": "python",
   "name": "python3"
  },
  "language_info": {
   "codemirror_mode": {
    "name": "ipython",
    "version": 3
   },
   "file_extension": ".py",
   "mimetype": "text/x-python",
   "name": "python",
   "nbconvert_exporter": "python",
   "pygments_lexer": "ipython3",
   "version": "3.10.12"
  },
  "widgets": {
   "application/vnd.jupyter.widget-state+json": {
    "state": {
     "1219e8e1526545219bb07cc6443a92f1": {
      "model_module": "@jupyter-widgets/controls",
      "model_module_version": "2.0.0",
      "model_name": "IntSliderModel",
      "state": {
       "_dom_classes": [],
       "_model_module": "@jupyter-widgets/controls",
       "_model_module_version": "2.0.0",
       "_model_name": "IntSliderModel",
       "_view_count": null,
       "_view_module": "@jupyter-widgets/controls",
       "_view_module_version": "2.0.0",
       "_view_name": "IntSliderView",
       "behavior": "drag-tap",
       "continuous_update": true,
       "description": "Z index",
       "description_allow_html": false,
       "disabled": false,
       "layout": "IPY_MODEL_86e5b2fa0ceb40cfbcf00ef4e3507c56",
       "max": 7,
       "min": 0,
       "orientation": "horizontal",
       "readout": true,
       "readout_format": "d",
       "step": 1,
       "style": "IPY_MODEL_24f4f126885f45e9b2000da7ba8d910e",
       "tabbable": null,
       "tooltip": null,
       "value": 0
      }
     },
     "1d350d07ef654672811a6974a5926a1e": {
      "model_module": "@jupyter-widgets/base",
      "model_module_version": "2.0.0",
      "model_name": "LayoutModel",
      "state": {
       "_model_module": "@jupyter-widgets/base",
       "_model_module_version": "2.0.0",
       "_model_name": "LayoutModel",
       "_view_count": null,
       "_view_module": "@jupyter-widgets/base",
       "_view_module_version": "2.0.0",
       "_view_name": "LayoutView",
       "align_content": null,
       "align_items": null,
       "align_self": null,
       "border_bottom": null,
       "border_left": null,
       "border_right": null,
       "border_top": null,
       "bottom": null,
       "display": null,
       "flex": null,
       "flex_flow": null,
       "grid_area": null,
       "grid_auto_columns": null,
       "grid_auto_flow": null,
       "grid_auto_rows": null,
       "grid_column": null,
       "grid_gap": null,
       "grid_row": null,
       "grid_template_areas": null,
       "grid_template_columns": null,
       "grid_template_rows": null,
       "height": null,
       "justify_content": null,
       "justify_items": null,
       "left": null,
       "margin": null,
       "max_height": null,
       "max_width": null,
       "min_height": null,
       "min_width": null,
       "object_fit": null,
       "object_position": null,
       "order": null,
       "overflow": null,
       "padding": null,
       "right": null,
       "top": null,
       "visibility": null,
       "width": null
      }
     },
     "24f4f126885f45e9b2000da7ba8d910e": {
      "model_module": "@jupyter-widgets/controls",
      "model_module_version": "2.0.0",
      "model_name": "SliderStyleModel",
      "state": {
       "_model_module": "@jupyter-widgets/controls",
       "_model_module_version": "2.0.0",
       "_model_name": "SliderStyleModel",
       "_view_count": null,
       "_view_module": "@jupyter-widgets/base",
       "_view_module_version": "2.0.0",
       "_view_name": "StyleView",
       "description_width": "",
       "handle_color": null
      }
     },
     "5203c832fe404219af51b0e05c829b50": {
      "model_module": "@jupyter-widgets/controls",
      "model_module_version": "2.0.0",
      "model_name": "VBoxModel",
      "state": {
       "_dom_classes": [
        "widget-interact"
       ],
       "_model_module": "@jupyter-widgets/controls",
       "_model_module_version": "2.0.0",
       "_model_name": "VBoxModel",
       "_view_count": null,
       "_view_module": "@jupyter-widgets/controls",
       "_view_module_version": "2.0.0",
       "_view_name": "VBoxView",
       "box_style": "",
       "children": [
        "IPY_MODEL_1219e8e1526545219bb07cc6443a92f1",
        "IPY_MODEL_791a0414706440b4a6f11d20eb8281b2"
       ],
       "layout": "IPY_MODEL_e1f3bcfc870c4a648f3789fcf8231d40",
       "tabbable": null,
       "tooltip": null
      }
     },
     "791a0414706440b4a6f11d20eb8281b2": {
      "model_module": "@jupyter-widgets/output",
      "model_module_version": "1.0.0",
      "model_name": "OutputModel",
      "state": {
       "_dom_classes": [],
       "_model_module": "@jupyter-widgets/output",
       "_model_module_version": "1.0.0",
       "_model_name": "OutputModel",
       "_view_count": null,
       "_view_module": "@jupyter-widgets/output",
       "_view_module_version": "1.0.0",
       "_view_name": "OutputView",
       "layout": "IPY_MODEL_1d350d07ef654672811a6974a5926a1e",
       "msg_id": "",
       "outputs": [
        {
         "data": {
          "image/png": "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",
          "text/plain": "<Figure size 1800x600 with 6 Axes>"
         },
         "metadata": {},
         "output_type": "display_data"
        }
       ],
       "tabbable": null,
       "tooltip": null
      }
     },
     "86e5b2fa0ceb40cfbcf00ef4e3507c56": {
      "model_module": "@jupyter-widgets/base",
      "model_module_version": "2.0.0",
      "model_name": "LayoutModel",
      "state": {
       "_model_module": "@jupyter-widgets/base",
       "_model_module_version": "2.0.0",
       "_model_name": "LayoutModel",
       "_view_count": null,
       "_view_module": "@jupyter-widgets/base",
       "_view_module_version": "2.0.0",
       "_view_name": "LayoutView",
       "align_content": null,
       "align_items": null,
       "align_self": null,
       "border_bottom": null,
       "border_left": null,
       "border_right": null,
       "border_top": null,
       "bottom": null,
       "display": null,
       "flex": null,
       "flex_flow": null,
       "grid_area": null,
       "grid_auto_columns": null,
       "grid_auto_flow": null,
       "grid_auto_rows": null,
       "grid_column": null,
       "grid_gap": null,
       "grid_row": null,
       "grid_template_areas": null,
       "grid_template_columns": null,
       "grid_template_rows": null,
       "height": null,
       "justify_content": null,
       "justify_items": null,
       "left": null,
       "margin": null,
       "max_height": null,
       "max_width": null,
       "min_height": null,
       "min_width": null,
       "object_fit": null,
       "object_position": null,
       "order": null,
       "overflow": null,
       "padding": null,
       "right": null,
       "top": null,
       "visibility": null,
       "width": null
      }
     },
     "e1f3bcfc870c4a648f3789fcf8231d40": {
      "model_module": "@jupyter-widgets/base",
      "model_module_version": "2.0.0",
      "model_name": "LayoutModel",
      "state": {
       "_model_module": "@jupyter-widgets/base",
       "_model_module_version": "2.0.0",
       "_model_name": "LayoutModel",
       "_view_count": null,
       "_view_module": "@jupyter-widgets/base",
       "_view_module_version": "2.0.0",
       "_view_name": "LayoutView",
       "align_content": null,
       "align_items": null,
       "align_self": null,
       "border_bottom": null,
       "border_left": null,
       "border_right": null,
       "border_top": null,
       "bottom": null,
       "display": null,
       "flex": null,
       "flex_flow": null,
       "grid_area": null,
       "grid_auto_columns": null,
       "grid_auto_flow": null,
       "grid_auto_rows": null,
       "grid_column": null,
       "grid_gap": null,
       "grid_row": null,
       "grid_template_areas": null,
       "grid_template_columns": null,
       "grid_template_rows": null,
       "height": null,
       "justify_content": null,
       "justify_items": null,
       "left": null,
       "margin": null,
       "max_height": null,
       "max_width": null,
       "min_height": null,
       "min_width": null,
       "object_fit": null,
       "object_position": null,
       "order": null,
       "overflow": null,
       "padding": null,
       "right": null,
       "top": null,
       "visibility": null,
       "width": null
      }
     }
    },
    "version_major": 2,
    "version_minor": 0
   }
  }
 },
 "nbformat": 4,
 "nbformat_minor": 2
}
